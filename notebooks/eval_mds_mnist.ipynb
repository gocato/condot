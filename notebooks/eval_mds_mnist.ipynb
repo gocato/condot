{
 "cells": [
  {
   "cell_type": "markdown",
   "id": "a126067f",
   "metadata": {},
   "source": [
    "# Multidimensional Scaling of MNIST"
   ]
  },
  {
   "cell_type": "code",
   "execution_count": 1,
   "id": "fd0b9f20",
   "metadata": {},
   "outputs": [],
   "source": [
    "import numpy as np\n",
    "import torch\n",
    "from sklearn.manifold import MDS\n",
    "import matplotlib.pyplot as plt"
   ]
  },
  {
   "cell_type": "code",
   "execution_count": 2,
   "id": "3659dcef",
   "metadata": {},
   "outputs": [],
   "source": [
    "from sklearn.datasets import load_digits"
   ]
  },
  {
   "cell_type": "code",
   "execution_count": 3,
   "id": "d4f2b62a",
   "metadata": {},
   "outputs": [],
   "source": [
    "digits = load_digits()\n",
    "X, y = load_digits(return_X_y=True)\n",
    "X.shape\n",
    "\n",
    "embedding = MDS(n_components=2)\n",
    "X_transformed = embedding.fit_transform(X[:100])\n",
    "y_transformed = y[:100]"
   ]
  },
  {
   "cell_type": "code",
   "execution_count": 4,
   "id": "f06f79f5",
   "metadata": {},
   "outputs": [
    {
     "data": {
      "image/png": "[encoded data removed]",
      "text/plain": [
       "<Figure size 432x288 with 1 Axes>"
      ]
     },
     "metadata": {
      "needs_background": "light"
     },
     "output_type": "display_data"
    }
   ],
   "source": [
    "for digit in digits.target_names:\n",
    "    plt.scatter(\n",
    "        *X_transformed[y_transformed == digit].T,\n",
    "        marker=f\"${digit}$\", s=80,\n",
    "        color=plt.cm.Paired(digit))\n",
    "    plt.axis('off')"
   ]
  },
  {
   "cell_type": "code",
   "execution_count": 6,
   "id": "5a77c24c-6c60-4f42-8e55-6eb2efbebe46",
   "metadata": {},
   "outputs": [
    {
     "data": {
      "text/plain": [
       "{'dissimilarity': 'euclidean',\n",
       " 'eps': 0.001,\n",
       " 'max_iter': 300,\n",
       " 'metric': True,\n",
       " 'n_components': 2,\n",
       " 'n_init': 4,\n",
       " 'n_jobs': None,\n",
       " 'random_state': None,\n",
       " 'verbose': 0}"
      ]
     },
     "execution_count": 6,
     "metadata": {},
     "output_type": "execute_result"
    }
   ],
   "source": [
    "embedding.get_params(deep=True)"
   ]
  }
 ],
 "metadata": {
  "kernelspec": {
   "display_name": "cell",
   "language": "python",
   "name": "cell"
  },
  "language_info": {
   "codemirror_mode": {
    "name": "ipython",
    "version": 3
   },
   "file_extension": ".py",
   "mimetype": "text/x-python",
   "name": "python",
   "nbconvert_exporter": "python",
   "pygments_lexer": "ipython3",
   "version": "3.9.7"
  }
 },
 "nbformat": 4,
 "nbformat_minor": 5
}
